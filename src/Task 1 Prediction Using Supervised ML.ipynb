
# Amr Wael Abdelmawgod Mohamed Abdelaal
# The Sparks Foundation
## Data Science & Business Analytics Track
# --------------------------------------------------------------------------
## Task 1:
  - Predict the percentage scores of students based on the number of study hours.
  - Predict the percentage score of a student that studies for 9.25 hours/day.

# --------------------------------------------------------------------------
# Import the required libraries
import numpy as np
import pandas as pd
import matplotlib.pyplot as plt
import seaborn as sns
from sklearn.model_selection import train_test_split
from sklearn.linear_model import LinearRegression
from sklearn import metrics
# Read the dataset and Display some Information about it
data = pd.read_csv('http://bit.ly/w-data')

print("Some information about the dataset:-\n")
data.info()
# Assign the feature (Number of Hours) to X
# and the output (Percentage Score) to Y
# and Plot them for visualization
X = data['Hours'].values
Y = data['Scores'].values

sns.scatterplot(x=X, y=Y)
plt.title('Number of Hours Vs Percentage Score', size=14)
plt.ylabel('Percentage Score', size=10)
plt.xlabel('Number of Hours', size=10)
plt.show()
# Split the dataset into training data & test data
X_train, X_test, Y_train, Y_test = train_test_split(X, Y, test_size=0.2, random_state=0)

# Expand the dimensions on the y-axis
# to be suitable to be passed to the model
# for fitting and prediction
X = np.expand_dims(X, axis=1)
Y = np.expand_dims(Y, axis=1)
X_train = np.expand_dims(X_train, axis=1)
Y_train = np.expand_dims(Y_train, axis=1)
X_test = np.expand_dims(X_test, axis=1)
Y_test = np.expand_dims(Y_test, axis=1)
# Instantiate a LinearRegression model
# Fit the training data
# and Plot the regression line on the training data
model = LinearRegression()
model.fit(X_train, Y_train)

# Y = mX + c
line = model.coef_ * X + model.intercept_
prediction = model.predict(X_test)

plt.scatter(X, Y)
plt.plot(X, line)
plt.title('Number of Hours Vs Percentage Score\nTraining Data', size=14)
plt.ylabel('Percentage Score', size=10)
plt.xlabel('Number of Hours', size=10)
plt.show()
# Plot the regression line on the test data
plt.scatter(x=X_test, y=Y_test)
plt.plot(X_test, prediction)
plt.title('Number of Hours Vs Percentage Score\nTest Data', size=14)
plt.ylabel('Percentage Score', size=10)
plt.xlabel('Number of Hours', size=10)
plt.show()
# Get the Number of Hours as input from the user
# and Predict the Percentage Score
hours = float(input('Number of Hours: '))
print("--------------------------------------------------------------------------\n")

test = np.array([hours])
test = np.expand_dims(test, axis=1)
test = model.predict(test)
print("for " + str(hours) + " Number of Hours:")
print("Predicted Score = " + str(test[0][0]))
# The Mean Absolute Error
print('Mean Absolute Error: ', metrics.mean_absolute_error(Y_test, prediction))
